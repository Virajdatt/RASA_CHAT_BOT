{
 "cells": [
  {
   "cell_type": "markdown",
   "metadata": {},
   "source": [
    "## RASA_CHATBOT_SIMPLE_NLU_PART\n",
    "\n"
   ]
  },
  {
   "cell_type": "markdown",
   "metadata": {},
   "source": [
    "## The workflow pic\n",
    "The pic below shows how the folder structure is formed and also explains a bit about the code used."
   ]
  },
  {
   "attachments": {},
   "cell_type": "markdown",
   "metadata": {},
   "source": [
    " <img src=\"Rasa_explained.jpeg\">"
   ]
  },
  {
   "cell_type": "markdown",
   "metadata": {},
   "source": [
    "### Importing dependency"
   ]
  },
  {
   "cell_type": "code",
   "execution_count": 8,
   "metadata": {
    "collapsed": true
   },
   "outputs": [],
   "source": [
    "from rasa_nlu.training_data  import load_data\n",
    "from rasa_nlu.config import RasaNLUModelConfig\n",
    "from rasa_nlu.model import Trainer\n",
    "from rasa_nlu import config\n",
    "from rasa_nlu.model import Metadata, Interpreter\n",
    "import warnings\n",
    "warnings.filterwarnings('ignore')"
   ]
  },
  {
   "cell_type": "markdown",
   "metadata": {},
   "source": [
    "### Training the Rasa NLU for intent and Entity detection"
   ]
  },
  {
   "cell_type": "code",
   "execution_count": 9,
   "metadata": {},
   "outputs": [
    {
     "name": "stdout",
     "output_type": "stream",
     "text": [
      "Fitting 2 folds for each of 6 candidates, totalling 12 fits\n"
     ]
    },
    {
     "name": "stderr",
     "output_type": "stream",
     "text": [
      "[Parallel(n_jobs=1)]: Done  12 out of  12 | elapsed:    0.0s finished\n"
     ]
    }
   ],
   "source": [
    "training_data = load_data(\"./data/data.json\")\n",
    "trainer = Trainer(config.load(\"./config_spacy.json\"))\n",
    "trainer.train(training_data)\n",
    "model_directory = trainer.persist(\"./models/nlu\",fixed_model_name='weathernlu')"
   ]
  },
  {
   "cell_type": "markdown",
   "metadata": {},
   "source": [
    "## Testing the model  with an Example for intent and Entity detection"
   ]
  },
  {
   "cell_type": "code",
   "execution_count": 10,
   "metadata": {},
   "outputs": [
    {
     "name": "stdout",
     "output_type": "stream",
     "text": [
      "{'intent': {'name': 'inform', 'confidence': 0.93911454488269441}, 'entities': [{'start': 47, 'end': 52, 'value': 'india', 'entity': 'location', 'confidence': 0.8113785158630524, 'extractor': 'ner_crf'}], 'intent_ranking': [{'name': 'inform', 'confidence': 0.93911454488269441}, {'name': 'greet', 'confidence': 0.032423224421153252}, {'name': 'goodbye', 'confidence': 0.028462230696152294}], 'text': 'Planning a trip to Delhi, weather condition in India'}\n"
     ]
    }
   ],
   "source": [
    "interpreter = Interpreter.load('./models/nlu/default/weathernlu/')\n",
    "print(interpreter.parse(u\"Planning a trip to Delhi, weather condition in India\"))"
   ]
  },
  {
   "cell_type": "code",
   "execution_count": null,
   "metadata": {
    "collapsed": true
   },
   "outputs": [],
   "source": []
  }
 ],
 "metadata": {
  "kernelspec": {
   "display_name": "Python 3",
   "language": "python",
   "name": "python3"
  },
  "language_info": {
   "codemirror_mode": {
    "name": "ipython",
    "version": 3
   },
   "file_extension": ".py",
   "mimetype": "text/x-python",
   "name": "python",
   "nbconvert_exporter": "python",
   "pygments_lexer": "ipython3",
   "version": "3.6.3"
  }
 },
 "nbformat": 4,
 "nbformat_minor": 2
}
